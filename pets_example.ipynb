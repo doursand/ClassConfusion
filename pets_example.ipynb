{
  "nbformat": 4,
  "nbformat_minor": 0,
  "metadata": {
    "colab": {
      "name": "lesson1-pets.ipynb",
      "version": "0.3.2",
      "provenance": []
    },
    "kernelspec": {
      "name": "python3",
      "display_name": "Python 3"
    },
    "accelerator": "GPU"
  },
  "cells": [
    {
      "cell_type": "markdown",
      "metadata": {
        "id": "TclE463xlsbx",
        "colab_type": "text"
      },
      "source": [
        "# Lesson 1 - What's your pet"
      ]
    },
    {
      "cell_type": "code",
      "metadata": {
        "id": "fpob4KH-lsb1",
        "colab_type": "code",
        "colab": {}
      },
      "source": [
        "from fastai.vision import *\n",
        "from fastai.metrics import error_rate"
      ],
      "execution_count": 0,
      "outputs": []
    },
    {
      "cell_type": "code",
      "metadata": {
        "id": "hoHMRnrwlsb4",
        "colab_type": "code",
        "colab": {}
      },
      "source": [
        "bs = 64\n",
        "# bs = 16   # uncomment this line if you run out of memory even after clicking Kernel->Restart"
      ],
      "execution_count": 0,
      "outputs": []
    },
    {
      "cell_type": "code",
      "metadata": {
        "id": "0XeBG1WMlsb9",
        "colab_type": "code",
        "colab": {
          "base_uri": "https://localhost:8080/",
          "height": 35
        },
        "outputId": "ddd51e76-ade9-4091-d3ec-e8820e322379"
      },
      "source": [
        "path = untar_data(URLs.PETS); path"
      ],
      "execution_count": 2,
      "outputs": [
        {
          "output_type": "execute_result",
          "data": {
            "text/plain": [
              "PosixPath('/root/.fastai/data/oxford-iiit-pet')"
            ]
          },
          "metadata": {
            "tags": []
          },
          "execution_count": 2
        }
      ]
    },
    {
      "cell_type": "code",
      "metadata": {
        "id": "GXPOUHLSlscC",
        "colab_type": "code",
        "colab": {}
      },
      "source": [
        "path_anno = path/'annotations'\n",
        "path_img = path/'images'"
      ],
      "execution_count": 0,
      "outputs": []
    },
    {
      "cell_type": "code",
      "metadata": {
        "id": "ntwFNTdJlscF",
        "colab_type": "code",
        "colab": {}
      },
      "source": [
        "fnames = get_image_files(path_img)\n",
        "fnames[:5]"
      ],
      "execution_count": 0,
      "outputs": []
    },
    {
      "cell_type": "code",
      "metadata": {
        "id": "hBCXOW8_lscH",
        "colab_type": "code",
        "colab": {}
      },
      "source": [
        "np.random.seed(2)\n",
        "pat = r'/([^/]+)_\\d+.jpg$'"
      ],
      "execution_count": 0,
      "outputs": []
    },
    {
      "cell_type": "code",
      "metadata": {
        "id": "WtjmSdp7lscK",
        "colab_type": "code",
        "colab": {}
      },
      "source": [
        "data = ImageDataBunch.from_name_re(path_img, fnames, pat, ds_tfms=get_transforms(), size=224, bs=bs\n",
        "                                  ).normalize(imagenet_stats)"
      ],
      "execution_count": 0,
      "outputs": []
    },
    {
      "cell_type": "code",
      "metadata": {
        "id": "ENmwKeVVlscR",
        "colab_type": "code",
        "colab": {
          "base_uri": "https://localhost:8080/",
          "height": 74
        },
        "outputId": "b2f6a53e-7c1a-45cd-87b7-238d50cfaade"
      },
      "source": [
        "learn = cnn_learner(data, models.resnet34, metrics=error_rate)"
      ],
      "execution_count": 9,
      "outputs": [
        {
          "output_type": "stream",
          "text": [
            "Downloading: \"https://download.pytorch.org/models/resnet34-333f7ec4.pth\" to /root/.cache/torch/checkpoints/resnet34-333f7ec4.pth\n",
            "100%|██████████| 87306240/87306240 [00:00<00:00, 105176739.80it/s]\n"
          ],
          "name": "stderr"
        }
      ]
    },
    {
      "cell_type": "code",
      "metadata": {
        "id": "lj_KlvYolscW",
        "colab_type": "code",
        "outputId": "586fb977-6c51-4189-c42c-0f9d35bd0bd0",
        "colab": {
          "base_uri": "https://localhost:8080/",
          "height": 78
        }
      },
      "source": [
        "learn.fit_one_cycle(1)"
      ],
      "execution_count": 10,
      "outputs": [
        {
          "output_type": "display_data",
          "data": {
            "text/html": [
              "<table border=\"1\" class=\"dataframe\">\n",
              "  <thead>\n",
              "    <tr style=\"text-align: left;\">\n",
              "      <th>epoch</th>\n",
              "      <th>train_loss</th>\n",
              "      <th>valid_loss</th>\n",
              "      <th>error_rate</th>\n",
              "      <th>time</th>\n",
              "    </tr>\n",
              "  </thead>\n",
              "  <tbody>\n",
              "    <tr>\n",
              "      <td>0</td>\n",
              "      <td>0.911544</td>\n",
              "      <td>0.297723</td>\n",
              "      <td>0.085927</td>\n",
              "      <td>01:37</td>\n",
              "    </tr>\n",
              "  </tbody>\n",
              "</table>"
            ],
            "text/plain": [
              "<IPython.core.display.HTML object>"
            ]
          },
          "metadata": {
            "tags": []
          }
        }
      ]
    },
    {
      "cell_type": "markdown",
      "metadata": {
        "id": "dpwLbTsPd9Vm",
        "colab_type": "text"
      },
      "source": [
        "# classLosses"
      ]
    },
    {
      "cell_type": "code",
      "metadata": {
        "id": "a3UF55TNY02-",
        "colab_type": "code",
        "colab": {}
      },
      "source": [
        "!git clone https://github.com/muellerzr/ClassLosses.git"
      ],
      "execution_count": 0,
      "outputs": []
    },
    {
      "cell_type": "code",
      "metadata": {
        "id": "tNzKqONeY2jQ",
        "colab_type": "code",
        "colab": {}
      },
      "source": [
        "from ClassLosses.classLosses import *"
      ],
      "execution_count": 0,
      "outputs": []
    },
    {
      "cell_type": "code",
      "metadata": {
        "id": "QWSjX8r9Y9AQ",
        "colab_type": "code",
        "colab": {}
      },
      "source": [
        "interp = ClassificationInterpretation.from_learner(learn)"
      ],
      "execution_count": 0,
      "outputs": []
    },
    {
      "cell_type": "code",
      "metadata": {
        "id": "lu7-mM3KuZT6",
        "colab_type": "code",
        "colab": {}
      },
      "source": [
        "cl = ['Egyptian_Mau', 'Bengal','Russian_Blue', 'British_Shorthair' ]"
      ],
      "execution_count": 0,
      "outputs": []
    },
    {
      "cell_type": "code",
      "metadata": {
        "id": "_sszCF6RY7iY",
        "colab_type": "code",
        "outputId": "81cd4712-ef2f-4571-8a40-c2bb556d973f",
        "colab": {
          "resources": {
            "http://localhost:8080/nbextensions/google.colab/tabbar.css": {
              "data": "Lmdvb2ctdGFie3Bvc2l0aW9uOnJlbGF0aXZlO3BhZGRpbmc6NHB4IDhweDtjb2xvcjojMDBjO3RleHQtZGVjb3JhdGlvbjp1bmRlcmxpbmU7Y3Vyc29yOmRlZmF1bHR9Lmdvb2ctdGFiLWJhci10b3AgLmdvb2ctdGFie21hcmdpbjoxcHggNHB4IDAgMDtib3JkZXItYm90dG9tOjA7ZmxvYXQ6bGVmdH0uZ29vZy10YWItYmFyLXRvcDphZnRlciwuZ29vZy10YWItYmFyLWJvdHRvbTphZnRlcntjb250ZW50OiIgIjtkaXNwbGF5OmJsb2NrO2hlaWdodDowO2NsZWFyOmJvdGg7dmlzaWJpbGl0eTpoaWRkZW59Lmdvb2ctdGFiLWJhci1ib3R0b20gLmdvb2ctdGFie21hcmdpbjowIDRweCAxcHggMDtib3JkZXItdG9wOjA7ZmxvYXQ6bGVmdH0uZ29vZy10YWItYmFyLXN0YXJ0IC5nb29nLXRhYnttYXJnaW46MCAwIDRweCAxcHg7Ym9yZGVyLXJpZ2h0OjB9Lmdvb2ctdGFiLWJhci1lbmQgLmdvb2ctdGFie21hcmdpbjowIDFweCA0cHggMDtib3JkZXItbGVmdDowfS5nb29nLXRhYi1ob3ZlcntiYWNrZ3JvdW5kOiNlZWV9Lmdvb2ctdGFiLWRpc2FibGVke2NvbG9yOiM2NjZ9Lmdvb2ctdGFiLXNlbGVjdGVke2NvbG9yOiMwMDA7YmFja2dyb3VuZDojZmZmO3RleHQtZGVjb3JhdGlvbjpub25lO2ZvbnQtd2VpZ2h0OmJvbGQ7Ym9yZGVyOjFweCBzb2xpZCAjNmI5MGRhfS5nb29nLXRhYi1iYXItdG9we3BhZGRpbmctdG9wOjVweCFpbXBvcnRhbnQ7cGFkZGluZy1sZWZ0OjVweCFpbXBvcnRhbnQ7Ym9yZGVyLWJvdHRvbToxcHggc29saWQgIzZiOTBkYSFpbXBvcnRhbnR9Lmdvb2ctdGFiLWJhci10b3AgLmdvb2ctdGFiLXNlbGVjdGVke3RvcDoxcHg7bWFyZ2luLXRvcDowO3BhZGRpbmctYm90dG9tOjVweH0uZ29vZy10YWItYmFyLWJvdHRvbSAuZ29vZy10YWItc2VsZWN0ZWR7dG9wOi0xcHg7bWFyZ2luLWJvdHRvbTowO3BhZGRpbmctdG9wOjVweH0uZ29vZy10YWItYmFyLXN0YXJ0IC5nb29nLXRhYi1zZWxlY3RlZHtsZWZ0OjFweDttYXJnaW4tbGVmdDowO3BhZGRpbmctcmlnaHQ6OXB4fS5nb29nLXRhYi1iYXItZW5kIC5nb29nLXRhYi1zZWxlY3RlZHtsZWZ0Oi0xcHg7bWFyZ2luLXJpZ2h0OjA7cGFkZGluZy1sZWZ0OjlweH0uZ29vZy10YWItYmFye21hcmdpbjowO2JvcmRlcjowO3BhZGRpbmc6MDtsaXN0LXN0eWxlOm5vbmU7Y3Vyc29yOmRlZmF1bHQ7b3V0bGluZTpub25lO2JhY2tncm91bmQ6I2ViZWZmOX0uZ29vZy10YWItYmFyLWNsZWFye2NsZWFyOmJvdGg7aGVpZ2h0OjA7b3ZlcmZsb3c6aGlkZGVufS5nb29nLXRhYi1iYXItc3RhcnR7ZmxvYXQ6bGVmdH0uZ29vZy10YWItYmFyLWVuZHtmbG9hdDpyaWdodH0qIGh0bWwgLmdvb2ctdGFiLWJhci1zdGFydHttYXJnaW4tcmlnaHQ6LTNweH0qIGh0bWwgLmdvb2ctdGFiLWJhci1lbmR7bWFyZ2luLWxlZnQ6LTNweH0=",
              "ok": true,
              "headers": [
                [
                  "content-type",
                  "text/css"
                ]
              ],
              "status": 200,
              "status_text": ""
            },
            "http://localhost:8080/nbextensions/google.colab/tabbar_main.min.js": {
              "data": "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",
              "ok": true,
              "headers": [
                [
                  "content-type",
                  "application/javascript"
                ]
              ],
              "status": 200,
              "status_text": ""
            }
          },
          "base_uri": "https://localhost:8080/",
          "height": 652
        }
      },
      "source": [
        "ClassLosses(interp, 5, cl)"
      ],
      "execution_count": 300,
      "outputs": [
        {
          "output_type": "display_data",
          "data": {
            "text/html": [
              "<link rel=stylesheet type=text/css href='/nbextensions/google.colab/tabbar.css'></link>"
            ],
            "text/plain": [
              "<IPython.core.display.HTML object>"
            ]
          },
          "metadata": {
            "tags": [
              "outputarea_id50"
            ]
          }
        },
        {
          "output_type": "display_data",
          "data": {
            "text/html": [
              "<script src='/nbextensions/google.colab/tabbar_main.min.js'></script>"
            ],
            "text/plain": [
              "<IPython.core.display.HTML object>"
            ]
          },
          "metadata": {
            "tags": [
              "outputarea_id50"
            ]
          }
        },
        {
          "output_type": "display_data",
          "data": {
            "text/html": [
              "<div id=\"id50\"></div>"
            ],
            "text/plain": [
              "<IPython.core.display.HTML object>"
            ]
          },
          "metadata": {
            "tags": [
              "outputarea_id50"
            ]
          }
        },
        {
          "output_type": "display_data",
          "data": {
            "application/javascript": [
              "window[\"567d3a5e-a422-11e9-9313-0242ac1c0002\"] = colab_lib.createTabBar({\"location\": \"top\", \"elementId\": \"id50\", \"tabNames\": [\"Egyptian_Mau | Bengal\", \"Russian_Blue | British_Shorthair\", \"Bengal | Egyptian_Mau\", \"British_Shorthair | Russian_Blue\", \"Bengal | British_Shorthair\"], \"initialSelection\": 0, \"contentBorder\": [\"0px\"], \"contentHeight\": [\"initial\"], \"borderColor\": [\"#a7a7a7\"]});\n",
              "//# sourceURL=js_e9eb6740fa"
            ],
            "text/plain": [
              "<IPython.core.display.Javascript object>"
            ]
          },
          "metadata": {
            "tags": [
              "outputarea_id50"
            ]
          }
        },
        {
          "output_type": "display_data",
          "data": {
            "application/javascript": [
              "window[\"567d8fae-a422-11e9-9313-0242ac1c0002\"] = window[\"id50\"].setSelectedTabIndex(0);\n",
              "//# sourceURL=js_da8d940de4"
            ],
            "text/plain": [
              "<IPython.core.display.Javascript object>"
            ]
          },
          "metadata": {
            "tags": [
              "outputarea_id50"
            ]
          }
        },
        {
          "output_type": "display_data",
          "data": {
            "application/javascript": [
              "window[\"567f2eb8-a422-11e9-9313-0242ac1c0002\"] = google.colab.output.getActiveOutputArea();\n",
              "//# sourceURL=js_ceb3e653e7"
            ],
            "text/plain": [
              "<IPython.core.display.Javascript object>"
            ]
          },
          "metadata": {
            "tags": [
              "id50_content_0",
              "outputarea_id50"
            ]
          }
        },
        {
          "output_type": "display_data",
          "data": {
            "application/javascript": [
              "window[\"567f8a34-a422-11e9-9313-0242ac1c0002\"] = document.querySelector(\"#id50_content_0\");\n",
              "//# sourceURL=js_c7dbd81122"
            ],
            "text/plain": [
              "<IPython.core.display.Javascript object>"
            ]
          },
          "metadata": {
            "tags": [
              "id50_content_0",
              "outputarea_id50"
            ]
          }
        },
        {
          "output_type": "display_data",
          "data": {
            "application/javascript": [
              "window[\"567fe484-a422-11e9-9313-0242ac1c0002\"] = google.colab.output.setActiveOutputArea(window[\"567f8a34-a422-11e9-9313-0242ac1c0002\"]);\n",
              "//# sourceURL=js_2c951147d9"
            ],
            "text/plain": [
              "<IPython.core.display.Javascript object>"
            ]
          },
          "metadata": {
            "tags": [
              "id50_content_0",
              "outputarea_id50"
            ]
          }
        },
        {
          "output_type": "display_data",
          "data": {
            "application/javascript": [
              "window[\"5680377c-a422-11e9-9313-0242ac1c0002\"] = window[\"id50\"].setSelectedTabIndex(0);\n",
              "//# sourceURL=js_9f58851a6a"
            ],
            "text/plain": [
              "<IPython.core.display.Javascript object>"
            ]
          },
          "metadata": {
            "tags": [
              "id50_content_0",
              "outputarea_id50"
            ]
          }
        },
        {
          "output_type": "display_data",
          "data": {
            "image/png": "[encoded data removed]",
            "text/plain": [
              "<Figure size 576x576 with 6 Axes>"
            ]
          },
          "metadata": {
            "tags": [
              "id50_content_0",
              "outputarea_id50",
              "user_output"
            ]
          }
        },
        {
          "output_type": "display_data",
          "data": {
            "application/javascript": [
              "window[\"5f591472-a422-11e9-9313-0242ac1c0002\"] = google.colab.output.setActiveOutputArea(window[\"567f2eb8-a422-11e9-9313-0242ac1c0002\"]);\n",
              "//# sourceURL=js_0d2cedb535"
            ],
            "text/plain": [
              "<IPython.core.display.Javascript object>"
            ]
          },
          "metadata": {
            "tags": [
              "id50_content_0",
              "outputarea_id50"
            ]
          }
        },
        {
          "output_type": "display_data",
          "data": {
            "application/javascript": [
              "window[\"5f5aaa30-a422-11e9-9313-0242ac1c0002\"] = google.colab.output.getActiveOutputArea();\n",
              "//# sourceURL=js_84859afa82"
            ],
            "text/plain": [
              "<IPython.core.display.Javascript object>"
            ]
          },
          "metadata": {
            "tags": [
              "id50_content_1",
              "outputarea_id50"
            ]
          }
        },
        {
          "output_type": "display_data",
          "data": {
            "application/javascript": [
              "window[\"5f5af3e6-a422-11e9-9313-0242ac1c0002\"] = document.querySelector(\"#id50_content_1\");\n",
              "//# sourceURL=js_7e27942d1f"
            ],
            "text/plain": [
              "<IPython.core.display.Javascript object>"
            ]
          },
          "metadata": {
            "tags": [
              "id50_content_1",
              "outputarea_id50"
            ]
          }
        },
        {
          "output_type": "display_data",
          "data": {
            "application/javascript": [
              "window[\"5f5b3b3a-a422-11e9-9313-0242ac1c0002\"] = google.colab.output.setActiveOutputArea(window[\"5f5af3e6-a422-11e9-9313-0242ac1c0002\"]);\n",
              "//# sourceURL=js_1eee999825"
            ],
            "text/plain": [
              "<IPython.core.display.Javascript object>"
            ]
          },
          "metadata": {
            "tags": [
              "id50_content_1",
              "outputarea_id50"
            ]
          }
        },
        {
          "output_type": "display_data",
          "data": {
            "application/javascript": [
              "window[\"5f5b7f8c-a422-11e9-9313-0242ac1c0002\"] = window[\"id50\"].setSelectedTabIndex(1);\n",
              "//# sourceURL=js_3eec450a75"
            ],
            "text/plain": [
              "<IPython.core.display.Javascript object>"
            ]
          },
          "metadata": {
            "tags": [
              "id50_content_1",
              "outputarea_id50"
            ]
          }
        },
        {
          "output_type": "display_data",
          "data": {
            "image/png": "[encoded data removed]",
            "text/plain": [
              "<Figure size 576x576 with 6 Axes>"
            ]
          },
          "metadata": {
            "tags": [
              "id50_content_1",
              "outputarea_id50",
              "user_output"
            ]
          }
        },
        {
          "output_type": "display_data",
          "data": {
            "application/javascript": [
              "window[\"6809ade8-a422-11e9-9313-0242ac1c0002\"] = google.colab.output.setActiveOutputArea(window[\"5f5aaa30-a422-11e9-9313-0242ac1c0002\"]);\n",
              "//# sourceURL=js_a3f058b1cf"
            ],
            "text/plain": [
              "<IPython.core.display.Javascript object>"
            ]
          },
          "metadata": {
            "tags": [
              "id50_content_1",
              "outputarea_id50"
            ]
          }
        },
        {
          "output_type": "display_data",
          "data": {
            "application/javascript": [
              "window[\"680c7078-a422-11e9-9313-0242ac1c0002\"] = google.colab.output.getActiveOutputArea();\n",
              "//# sourceURL=js_195da04510"
            ],
            "text/plain": [
              "<IPython.core.display.Javascript object>"
            ]
          },
          "metadata": {
            "tags": [
              "id50_content_2",
              "outputarea_id50"
            ]
          }
        },
        {
          "output_type": "display_data",
          "data": {
            "application/javascript": [
              "window[\"680d32e2-a422-11e9-9313-0242ac1c0002\"] = document.querySelector(\"#id50_content_2\");\n",
              "//# sourceURL=js_9ba38d13fa"
            ],
            "text/plain": [
              "<IPython.core.display.Javascript object>"
            ]
          },
          "metadata": {
            "tags": [
              "id50_content_2",
              "outputarea_id50"
            ]
          }
        },
        {
          "output_type": "display_data",
          "data": {
            "application/javascript": [
              "window[\"680da006-a422-11e9-9313-0242ac1c0002\"] = google.colab.output.setActiveOutputArea(window[\"680d32e2-a422-11e9-9313-0242ac1c0002\"]);\n",
              "//# sourceURL=js_bf99bc3edb"
            ],
            "text/plain": [
              "<IPython.core.display.Javascript object>"
            ]
          },
          "metadata": {
            "tags": [
              "id50_content_2",
              "outputarea_id50"
            ]
          }
        },
        {
          "output_type": "display_data",
          "data": {
            "application/javascript": [
              "window[\"680e376e-a422-11e9-9313-0242ac1c0002\"] = window[\"id50\"].setSelectedTabIndex(2);\n",
              "//# sourceURL=js_26a610f7fa"
            ],
            "text/plain": [
              "<IPython.core.display.Javascript object>"
            ]
          },
          "metadata": {
            "tags": [
              "id50_content_2",
              "outputarea_id50"
            ]
          }
        },
        {
          "output_type": "display_data",
          "data": {
            "image/png": "[encoded data removed]",
            "text/plain": [
              "<Figure size 576x576 with 6 Axes>"
            ]
          },
          "metadata": {
            "tags": [
              "id50_content_2",
              "outputarea_id50",
              "user_output"
            ]
          }
        },
        {
          "output_type": "display_data",
          "data": {
            "application/javascript": [
              "window[\"709068c6-a422-11e9-9313-0242ac1c0002\"] = google.colab.output.setActiveOutputArea(window[\"680c7078-a422-11e9-9313-0242ac1c0002\"]);\n",
              "//# sourceURL=js_a8c9efd882"
            ],
            "text/plain": [
              "<IPython.core.display.Javascript object>"
            ]
          },
          "metadata": {
            "tags": [
              "id50_content_2",
              "outputarea_id50"
            ]
          }
        },
        {
          "output_type": "display_data",
          "data": {
            "application/javascript": [
              "window[\"709219be-a422-11e9-9313-0242ac1c0002\"] = google.colab.output.getActiveOutputArea();\n",
              "//# sourceURL=js_af2ec57e67"
            ],
            "text/plain": [
              "<IPython.core.display.Javascript object>"
            ]
          },
          "metadata": {
            "tags": [
              "id50_content_3",
              "outputarea_id50"
            ]
          }
        },
        {
          "output_type": "display_data",
          "data": {
            "application/javascript": [
              "window[\"7092951a-a422-11e9-9313-0242ac1c0002\"] = document.querySelector(\"#id50_content_3\");\n",
              "//# sourceURL=js_6eea558958"
            ],
            "text/plain": [
              "<IPython.core.display.Javascript object>"
            ]
          },
          "metadata": {
            "tags": [
              "id50_content_3",
              "outputarea_id50"
            ]
          }
        },
        {
          "output_type": "display_data",
          "data": {
            "application/javascript": [
              "window[\"70936e40-a422-11e9-9313-0242ac1c0002\"] = google.colab.output.setActiveOutputArea(window[\"7092951a-a422-11e9-9313-0242ac1c0002\"]);\n",
              "//# sourceURL=js_48108a6b0f"
            ],
            "text/plain": [
              "<IPython.core.display.Javascript object>"
            ]
          },
          "metadata": {
            "tags": [
              "id50_content_3",
              "outputarea_id50"
            ]
          }
        },
        {
          "output_type": "display_data",
          "data": {
            "application/javascript": [
              "window[\"7093bf76-a422-11e9-9313-0242ac1c0002\"] = window[\"id50\"].setSelectedTabIndex(3);\n",
              "//# sourceURL=js_0c9d544562"
            ],
            "text/plain": [
              "<IPython.core.display.Javascript object>"
            ]
          },
          "metadata": {
            "tags": [
              "id50_content_3",
              "outputarea_id50"
            ]
          }
        },
        {
          "output_type": "display_data",
          "data": {
            "image/png": "[encoded data removed]",
            "text/plain": [
              "<Figure size 576x576 with 4 Axes>"
            ]
          },
          "metadata": {
            "tags": [
              "id50_content_3",
              "outputarea_id50",
              "user_output"
            ]
          }
        },
        {
          "output_type": "display_data",
          "data": {
            "application/javascript": [
              "window[\"78f642ce-a422-11e9-9313-0242ac1c0002\"] = google.colab.output.setActiveOutputArea(window[\"709219be-a422-11e9-9313-0242ac1c0002\"]);\n",
              "//# sourceURL=js_46fcce3c1e"
            ],
            "text/plain": [
              "<IPython.core.display.Javascript object>"
            ]
          },
          "metadata": {
            "tags": [
              "id50_content_3",
              "outputarea_id50"
            ]
          }
        },
        {
          "output_type": "display_data",
          "data": {
            "application/javascript": [
              "window[\"78f7d7e2-a422-11e9-9313-0242ac1c0002\"] = google.colab.output.getActiveOutputArea();\n",
              "//# sourceURL=js_7193b45c5c"
            ],
            "text/plain": [
              "<IPython.core.display.Javascript object>"
            ]
          },
          "metadata": {
            "tags": [
              "id50_content_4",
              "outputarea_id50"
            ]
          }
        },
        {
          "output_type": "display_data",
          "data": {
            "application/javascript": [
              "window[\"78f8302a-a422-11e9-9313-0242ac1c0002\"] = document.querySelector(\"#id50_content_4\");\n",
              "//# sourceURL=js_1c97574943"
            ],
            "text/plain": [
              "<IPython.core.display.Javascript object>"
            ]
          },
          "metadata": {
            "tags": [
              "id50_content_4",
              "outputarea_id50"
            ]
          }
        },
        {
          "output_type": "display_data",
          "data": {
            "application/javascript": [
              "window[\"78f8792c-a422-11e9-9313-0242ac1c0002\"] = google.colab.output.setActiveOutputArea(window[\"78f8302a-a422-11e9-9313-0242ac1c0002\"]);\n",
              "//# sourceURL=js_2e3fb3585b"
            ],
            "text/plain": [
              "<IPython.core.display.Javascript object>"
            ]
          },
          "metadata": {
            "tags": [
              "id50_content_4",
              "outputarea_id50"
            ]
          }
        },
        {
          "output_type": "display_data",
          "data": {
            "application/javascript": [
              "window[\"78f8c2ec-a422-11e9-9313-0242ac1c0002\"] = window[\"id50\"].setSelectedTabIndex(4);\n",
              "//# sourceURL=js_53b2e84418"
            ],
            "text/plain": [
              "<IPython.core.display.Javascript object>"
            ]
          },
          "metadata": {
            "tags": [
              "id50_content_4",
              "outputarea_id50"
            ]
          }
        },
        {
          "output_type": "display_data",
          "data": {
            "image/png": "[encoded data removed]",
            "text/plain": [
              "<Figure size 576x576 with 4 Axes>"
            ]
          },
          "metadata": {
            "tags": [
              "id50_content_4",
              "outputarea_id50",
              "user_output"
            ]
          }
        },
        {
          "output_type": "display_data",
          "data": {
            "application/javascript": [
              "window[\"8161d978-a422-11e9-9313-0242ac1c0002\"] = google.colab.output.setActiveOutputArea(window[\"78f7d7e2-a422-11e9-9313-0242ac1c0002\"]);\n",
              "//# sourceURL=js_13c2b50a24"
            ],
            "text/plain": [
              "<IPython.core.display.Javascript object>"
            ]
          },
          "metadata": {
            "tags": [
              "id50_content_4",
              "outputarea_id50"
            ]
          }
        }
      ]
    },
    {
      "cell_type": "code",
      "metadata": {
        "id": "VeOqpZ4hVLNb",
        "colab_type": "code",
        "colab": {}
      },
      "source": [
        ""
      ],
      "execution_count": 0,
      "outputs": []
    }
  ]
}